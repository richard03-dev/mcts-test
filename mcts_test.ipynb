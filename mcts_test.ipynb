{
 "cells": [
  {
   "cell_type": "code",
   "execution_count": 1,
   "metadata": {},
   "outputs": [
    {
     "name": "stderr",
     "output_type": "stream",
     "text": [
      "/home/rjsilves/.local/lib/python3.9/site-packages/pandas/core/computation/expressions.py:21: UserWarning: Pandas requires version '2.8.4' or newer of 'numexpr' (version '2.8.3' currently installed).\n",
      "  from pandas.core.computation.check import NUMEXPR_INSTALLED\n",
      "/home/rjsilves/.local/lib/python3.9/site-packages/pandas/core/arrays/masked.py:60: UserWarning: Pandas requires version '1.3.6' or newer of 'bottleneck' (version '1.3.5' currently installed).\n",
      "  from pandas.core import (\n",
      "100%|██████████| 1000/1000 [01:21<00:00, 12.33it/s]\n"
     ]
    },
    {
     "name": "stdout",
     "output_type": "stream",
     "text": [
      "Time taken (s):  81.08462238311768\n",
      "Reaction name: Ketone reduction, Score: 1.0543966155957896\n",
      "Chem C[C@@H](N)C(=O)c1ccccc1, Score: 1.9, visits: 11, solution: True\n",
      " \n",
      "Reaction name: Ketone amination, Score: 1.1208020577623934\n",
      "Chem CC(=O)[C@H](O)c1ccccc1, Score: 4.75, visits: 14, solution: True\n",
      " \n",
      "Reaction name: Imine reduction, Score: 1.0338489451859145\n",
      "Chem CC(=N)[C@H](O)c1ccccc1, Score: 0.0, visits: 8, solution: False\n",
      " \n",
      "Reaction name: Amide hydrolysis (NH), Score: 1.0097026079608635\n",
      "Chem CC(=O)N[C@H](C)[C@H](O)c1ccccc1, Score: 0.85, visits: 10, solution: False\n",
      " \n",
      "Reaction name: Phosphate hydrolysis, Score: 1.0778841289400352\n",
      "Chem C[C@@H](N)[C@H](OP(=O)(O)O)c1ccccc1, Score: 2.8049999999999997, visits: 12, solution: False\n",
      " \n",
      "Reaction name: Imine reduction, Score: 1.070249910929137\n",
      "Chem CC(=N)[C@H](O)c1ccccc1, Score: 0.85975, visits: 9, solution: False\n",
      " \n",
      "Reaction name: Ester hydrolysis (OH), Score: 1.0338489451859145\n",
      "Chem CCC(=O)O[C@H](c1ccccc1)[C@@H](C)N, Score: 0.0, visits: 8, solution: False\n",
      " \n"
     ]
    }
   ],
   "source": [
    "import sqlite3\n",
    "import pandas as pd\n",
    "import numpy as np\n",
    "import time\n",
    "from utils import *\n",
    "from ReactNode import ReactNode\n",
    "from ChemNode import ChemNode\n",
    "from ChemNode import ChemNode\n",
    "from MCTS import MCTS\n",
    "from tree_utils import *\n",
    "\n",
    "conn = sqlite3.connect('buyable.db')\n",
    "buyable = conn.cursor()\n",
    "retrobiocat = pd.read_pickle(\"data/final_test_retrobiocat.pkl\")\n",
    "analyzer = Retrosim()\n",
    "\n",
    "smile = \"C[C@@H](N)[C@H](O)c1ccccc1\"\n",
    "root = ChemNode(smile, 0, None, buyable, retrobiocat, analyzer, None)\n",
    "\n",
    "mcts = MCTS(root)\n",
    "\n",
    "start = time.time()\n",
    "mcts.MCTS(1000)\n",
    "print(\"Time taken (s): \", time.time()-start)\n",
    "\n",
    "for react in root.reactions:\n",
    "    print(f'Reaction name: {react.reaction_name}, Score: {react.get_mcts_value()}')\n",
    "    for precursor in react.precursors:\n",
    "        print(f'Chem {precursor.smiles}, Score: {precursor.score}, visits: {precursor.visits}, solution: {precursor.solution}')\n",
    "    print(\" \")\n",
    "    \n",
    "prune_tree(root)\n",
    "paths = generate_paths(root)"
   ]
  },
  {
   "cell_type": "code",
   "execution_count": 2,
   "metadata": {},
   "outputs": [
    {
     "data": {
      "text/plain": [
       "False"
      ]
     },
     "execution_count": 2,
     "metadata": {},
     "output_type": "execute_result"
    }
   ],
   "source": [
    "root.solution"
   ]
  },
  {
   "cell_type": "code",
   "execution_count": null,
   "metadata": {},
   "outputs": [
    {
     "name": "stdout",
     "output_type": "stream",
     "text": [
      "There are 4 paths found.\n"
     ]
    },
    {
     "name": "stdin",
     "output_type": "stream",
     "text": [
      "Enter a number (1-4) to explore a path or type 'exit' to quit:  1\n"
     ]
    },
    {
     "name": "stdout",
     "output_type": "stream",
     "text": [
      "\n",
      "This is path 1 of 4\n",
      "--------------------\n",
      "Target Compound: C[C@@H](N)[C@H](O)c1ccccc1\n"
     ]
    },
    {
     "data": {
      "image/svg+xml": [
       "<svg xmlns=\"http://www.w3.org/2000/svg\" xmlns:rdkit=\"http://www.rdkit.org/xml\" xmlns:xlink=\"http://www.w3.org/1999/xlink\" version=\"1.1\" baseProfile=\"full\" xml:space=\"preserve\" width=\"400px\" height=\"400px\" viewBox=\"0 0 400 400\">\n",
       "<!-- END OF HEADER -->\n",
       "<rect style=\"opacity:1.0;fill:#FFFFFF;stroke:none\" width=\"400.0\" height=\"400.0\" x=\"0.0\" y=\"0.0\"> </rect>\n",
       "<path class=\"bond-0 atom-1 atom-0\" d=\"M 97.5,171.4 L 22.7,195.3 L 20.0,183.9 Z\" style=\"fill:#000000;fill-rule:evenodd;fill-opacity:1;stroke:#000000;stroke-width:0.5px;stroke-linecap:butt;stroke-linejoin:miter;stroke-opacity:1;\"/>\n",
       "<path class=\"bond-1 atom-1 atom-2\" d=\"M 97.5,171.4 L 106.6,140.6\" style=\"fill:none;fill-rule:evenodd;stroke:#000000;stroke-width:2.0px;stroke-linecap:butt;stroke-linejoin:miter;stroke-opacity:1\"/>\n",
       "<path class=\"bond-1 atom-1 atom-2\" d=\"M 106.6,140.6 L 115.7,109.9\" style=\"fill:none;fill-rule:evenodd;stroke:#0000FF;stroke-width:2.0px;stroke-linecap:butt;stroke-linejoin:miter;stroke-opacity:1\"/>\n",
       "<path class=\"bond-2 atom-1 atom-3\" d=\"M 97.5,171.4 L 151.5,228.2\" style=\"fill:none;fill-rule:evenodd;stroke:#000000;stroke-width:2.0px;stroke-linecap:butt;stroke-linejoin:miter;stroke-opacity:1\"/>\n",
       "<path class=\"bond-3 atom-3 atom-4\" d=\"M 151.5,228.2 L 145.6,258.4 L 140.0,256.7 Z\" style=\"fill:#000000;fill-rule:evenodd;fill-opacity:1;stroke:#000000;stroke-width:0.5px;stroke-linecap:butt;stroke-linejoin:miter;stroke-opacity:1;\"/>\n",
       "<path class=\"bond-3 atom-3 atom-4\" d=\"M 145.6,258.4 L 128.4,285.2 L 139.7,288.6 Z\" style=\"fill:#FF0000;fill-rule:evenodd;fill-opacity:1;stroke:#FF0000;stroke-width:0.5px;stroke-linecap:butt;stroke-linejoin:miter;stroke-opacity:1;\"/>\n",
       "<path class=\"bond-3 atom-3 atom-4\" d=\"M 145.6,258.4 L 140.0,256.7 L 128.4,285.2 Z\" style=\"fill:#FF0000;fill-rule:evenodd;fill-opacity:1;stroke:#FF0000;stroke-width:0.5px;stroke-linecap:butt;stroke-linejoin:miter;stroke-opacity:1;\"/>\n",
       "<path class=\"bond-4 atom-3 atom-5\" d=\"M 151.5,228.2 L 227.6,209.9\" style=\"fill:none;fill-rule:evenodd;stroke:#000000;stroke-width:2.0px;stroke-linecap:butt;stroke-linejoin:miter;stroke-opacity:1\"/>\n",
       "<path class=\"bond-5 atom-5 atom-6\" d=\"M 227.6,209.9 L 249.9,134.8\" style=\"fill:none;fill-rule:evenodd;stroke:#000000;stroke-width:2.0px;stroke-linecap:butt;stroke-linejoin:miter;stroke-opacity:1\"/>\n",
       "<path class=\"bond-5 atom-5 atom-6\" d=\"M 240.8,206.7 L 259.2,144.6\" style=\"fill:none;fill-rule:evenodd;stroke:#000000;stroke-width:2.0px;stroke-linecap:butt;stroke-linejoin:miter;stroke-opacity:1\"/>\n",
       "<path class=\"bond-6 atom-6 atom-7\" d=\"M 249.9,134.8 L 326.1,116.5\" style=\"fill:none;fill-rule:evenodd;stroke:#000000;stroke-width:2.0px;stroke-linecap:butt;stroke-linejoin:miter;stroke-opacity:1\"/>\n",
       "<path class=\"bond-7 atom-7 atom-8\" d=\"M 326.1,116.5 L 380.0,173.3\" style=\"fill:none;fill-rule:evenodd;stroke:#000000;stroke-width:2.0px;stroke-linecap:butt;stroke-linejoin:miter;stroke-opacity:1\"/>\n",
       "<path class=\"bond-7 atom-7 atom-8\" d=\"M 322.2,129.5 L 366.8,176.5\" style=\"fill:none;fill-rule:evenodd;stroke:#000000;stroke-width:2.0px;stroke-linecap:butt;stroke-linejoin:miter;stroke-opacity:1\"/>\n",
       "<path class=\"bond-8 atom-8 atom-9\" d=\"M 380.0,173.3 L 357.7,248.4\" style=\"fill:none;fill-rule:evenodd;stroke:#000000;stroke-width:2.0px;stroke-linecap:butt;stroke-linejoin:miter;stroke-opacity:1\"/>\n",
       "<path class=\"bond-9 atom-9 atom-10\" d=\"M 357.7,248.4 L 281.6,266.7\" style=\"fill:none;fill-rule:evenodd;stroke:#000000;stroke-width:2.0px;stroke-linecap:butt;stroke-linejoin:miter;stroke-opacity:1\"/>\n",
       "<path class=\"bond-9 atom-9 atom-10\" d=\"M 348.4,238.6 L 285.4,253.7\" style=\"fill:none;fill-rule:evenodd;stroke:#000000;stroke-width:2.0px;stroke-linecap:butt;stroke-linejoin:miter;stroke-opacity:1\"/>\n",
       "<path class=\"bond-10 atom-10 atom-5\" d=\"M 281.6,266.7 L 227.6,209.9\" style=\"fill:none;fill-rule:evenodd;stroke:#000000;stroke-width:2.0px;stroke-linecap:butt;stroke-linejoin:miter;stroke-opacity:1\"/>\n",
       "<path d=\"M 98.0,169.8 L 97.5,171.4 L 100.2,174.2\" style=\"fill:none;stroke:#000000;stroke-width:2.0px;stroke-linecap:butt;stroke-linejoin:miter;stroke-opacity:1;\"/>\n",
       "<path d=\"M 148.8,225.3 L 151.5,228.2 L 155.3,227.3\" style=\"fill:none;stroke:#000000;stroke-width:2.0px;stroke-linecap:butt;stroke-linejoin:miter;stroke-opacity:1;\"/>\n",
       "<path d=\"M 248.8,138.5 L 249.9,134.8 L 253.7,133.9\" style=\"fill:none;stroke:#000000;stroke-width:2.0px;stroke-linecap:butt;stroke-linejoin:miter;stroke-opacity:1;\"/>\n",
       "<path d=\"M 322.3,117.4 L 326.1,116.5 L 328.8,119.3\" style=\"fill:none;stroke:#000000;stroke-width:2.0px;stroke-linecap:butt;stroke-linejoin:miter;stroke-opacity:1;\"/>\n",
       "<path d=\"M 377.3,170.5 L 380.0,173.3 L 378.9,177.1\" style=\"fill:none;stroke:#000000;stroke-width:2.0px;stroke-linecap:butt;stroke-linejoin:miter;stroke-opacity:1;\"/>\n",
       "<path d=\"M 358.9,244.7 L 357.7,248.4 L 353.9,249.4\" style=\"fill:none;stroke:#000000;stroke-width:2.0px;stroke-linecap:butt;stroke-linejoin:miter;stroke-opacity:1;\"/>\n",
       "<path d=\"M 285.4,265.8 L 281.6,266.7 L 278.9,263.9\" style=\"fill:none;stroke:#000000;stroke-width:2.0px;stroke-linecap:butt;stroke-linejoin:miter;stroke-opacity:1;\"/>\n",
       "<path class=\"atom-2\" d=\"M 114.9 85.1 L 122.2 96.9 Q 122.9 98.1, 124.0 100.2 Q 125.2 102.3, 125.3 102.4 L 125.3 85.1 L 128.2 85.1 L 128.2 107.3 L 125.2 107.3 L 117.4 94.5 Q 116.5 93.0, 115.5 91.3 Q 114.6 89.5, 114.3 89.0 L 114.3 107.3 L 111.4 107.3 L 111.4 85.1 L 114.9 85.1 \" fill=\"#0000FF\"/>\n",
       "<path class=\"atom-2\" d=\"M 132.5 85.1 L 135.5 85.1 L 135.5 94.6 L 146.8 94.6 L 146.8 85.1 L 149.8 85.1 L 149.8 107.3 L 146.8 107.3 L 146.8 97.1 L 135.5 97.1 L 135.5 107.3 L 132.5 107.3 L 132.5 85.1 \" fill=\"#0000FF\"/>\n",
       "<path class=\"atom-2\" d=\"M 154.2 106.6 Q 154.7 105.2, 156.0 104.4 Q 157.3 103.6, 159.0 103.6 Q 161.2 103.6, 162.5 104.8 Q 163.7 106.0, 163.7 108.1 Q 163.7 110.3, 162.1 112.3 Q 160.5 114.4, 157.2 116.8 L 164.0 116.8 L 164.0 118.4 L 154.1 118.4 L 154.1 117.0 Q 156.8 115.1, 158.5 113.6 Q 160.1 112.2, 160.9 110.9 Q 161.7 109.6, 161.7 108.2 Q 161.7 106.8, 161.0 106.1 Q 160.3 105.3, 159.0 105.3 Q 157.9 105.3, 157.1 105.7 Q 156.3 106.2, 155.7 107.3 L 154.2 106.6 \" fill=\"#0000FF\"/>\n",
       "<path class=\"atom-4\" d=\"M 119.0 303.4 Q 119.0 298.0, 121.7 295.1 Q 124.3 292.1, 129.2 292.1 Q 134.1 292.1, 136.8 295.1 Q 139.4 298.0, 139.4 303.4 Q 139.4 308.7, 136.7 311.8 Q 134.1 314.9, 129.2 314.9 Q 124.3 314.9, 121.7 311.8 Q 119.0 308.8, 119.0 303.4 M 129.2 312.3 Q 132.6 312.3, 134.4 310.1 Q 136.3 307.8, 136.3 303.4 Q 136.3 299.0, 134.4 296.8 Q 132.6 294.6, 129.2 294.6 Q 125.8 294.6, 124.0 296.8 Q 122.2 299.0, 122.2 303.4 Q 122.2 307.8, 124.0 310.1 Q 125.8 312.3, 129.2 312.3 \" fill=\"#FF0000\"/>\n",
       "<path class=\"atom-4\" d=\"M 142.9 292.3 L 145.9 292.3 L 145.9 301.8 L 157.2 301.8 L 157.2 292.3 L 160.2 292.3 L 160.2 314.5 L 157.2 314.5 L 157.2 304.3 L 145.9 304.3 L 145.9 314.5 L 142.9 314.5 L 142.9 292.3 \" fill=\"#FF0000\"/>\n",
       "</svg>"
      ],
      "text/plain": [
       "<IPython.core.display.SVG object>"
      ]
     },
     "metadata": {},
     "output_type": "display_data"
    },
    {
     "name": "stdout",
     "output_type": "stream",
     "text": [
      "\n",
      "These are the buyable compounds needed for this pathway:\n",
      "Buyable Compound 1: CC(=O)C(=O)c1ccccc1\n"
     ]
    },
    {
     "data": {
      "image/svg+xml": [
       "<svg xmlns=\"http://www.w3.org/2000/svg\" xmlns:rdkit=\"http://www.rdkit.org/xml\" xmlns:xlink=\"http://www.w3.org/1999/xlink\" version=\"1.1\" baseProfile=\"full\" xml:space=\"preserve\" width=\"400px\" height=\"400px\" viewBox=\"0 0 400 400\">\n",
       "<!-- END OF HEADER -->\n",
       "<rect style=\"opacity:1.0;fill:#FFFFFF;stroke:none\" width=\"400.0\" height=\"400.0\" x=\"0.0\" y=\"0.0\"> </rect>\n",
       "<path class=\"bond-0 atom-0 atom-1\" d=\"M 20.0,189.7 L 96.5,171.3\" style=\"fill:none;fill-rule:evenodd;stroke:#000000;stroke-width:2.0px;stroke-linecap:butt;stroke-linejoin:miter;stroke-opacity:1\"/>\n",
       "<path class=\"bond-1 atom-1 atom-2\" d=\"M 101.2,176.2 L 110.7,144.0\" style=\"fill:none;fill-rule:evenodd;stroke:#000000;stroke-width:2.0px;stroke-linecap:butt;stroke-linejoin:miter;stroke-opacity:1\"/>\n",
       "<path class=\"bond-1 atom-1 atom-2\" d=\"M 110.7,144.0 L 120.3,111.8\" style=\"fill:none;fill-rule:evenodd;stroke:#FF0000;stroke-width:2.0px;stroke-linecap:butt;stroke-linejoin:miter;stroke-opacity:1\"/>\n",
       "<path class=\"bond-1 atom-1 atom-2\" d=\"M 89.8,172.9 L 99.4,140.7\" style=\"fill:none;fill-rule:evenodd;stroke:#000000;stroke-width:2.0px;stroke-linecap:butt;stroke-linejoin:miter;stroke-opacity:1\"/>\n",
       "<path class=\"bond-1 atom-1 atom-2\" d=\"M 99.4,140.7 L 108.9,108.4\" style=\"fill:none;fill-rule:evenodd;stroke:#FF0000;stroke-width:2.0px;stroke-linecap:butt;stroke-linejoin:miter;stroke-opacity:1\"/>\n",
       "<path class=\"bond-2 atom-1 atom-3\" d=\"M 96.5,171.3 L 150.6,228.3\" style=\"fill:none;fill-rule:evenodd;stroke:#000000;stroke-width:2.0px;stroke-linecap:butt;stroke-linejoin:miter;stroke-opacity:1\"/>\n",
       "<path class=\"bond-3 atom-3 atom-4\" d=\"M 145.9,223.4 L 136.3,255.8\" style=\"fill:none;fill-rule:evenodd;stroke:#000000;stroke-width:2.0px;stroke-linecap:butt;stroke-linejoin:miter;stroke-opacity:1\"/>\n",
       "<path class=\"bond-3 atom-3 atom-4\" d=\"M 136.3,255.8 L 126.7,288.2\" style=\"fill:none;fill-rule:evenodd;stroke:#FF0000;stroke-width:2.0px;stroke-linecap:butt;stroke-linejoin:miter;stroke-opacity:1\"/>\n",
       "<path class=\"bond-3 atom-3 atom-4\" d=\"M 157.2,226.8 L 147.6,259.2\" style=\"fill:none;fill-rule:evenodd;stroke:#000000;stroke-width:2.0px;stroke-linecap:butt;stroke-linejoin:miter;stroke-opacity:1\"/>\n",
       "<path class=\"bond-3 atom-3 atom-4\" d=\"M 147.6,259.2 L 138.0,291.6\" style=\"fill:none;fill-rule:evenodd;stroke:#FF0000;stroke-width:2.0px;stroke-linecap:butt;stroke-linejoin:miter;stroke-opacity:1\"/>\n",
       "<path class=\"bond-4 atom-3 atom-5\" d=\"M 150.6,228.3 L 227.1,210.0\" style=\"fill:none;fill-rule:evenodd;stroke:#000000;stroke-width:2.0px;stroke-linecap:butt;stroke-linejoin:miter;stroke-opacity:1\"/>\n",
       "<path class=\"bond-5 atom-5 atom-6\" d=\"M 227.1,210.0 L 249.4,134.6\" style=\"fill:none;fill-rule:evenodd;stroke:#000000;stroke-width:2.0px;stroke-linecap:butt;stroke-linejoin:miter;stroke-opacity:1\"/>\n",
       "<path class=\"bond-5 atom-5 atom-6\" d=\"M 240.3,206.8 L 258.8,144.5\" style=\"fill:none;fill-rule:evenodd;stroke:#000000;stroke-width:2.0px;stroke-linecap:butt;stroke-linejoin:miter;stroke-opacity:1\"/>\n",
       "<path class=\"bond-6 atom-6 atom-7\" d=\"M 249.4,134.6 L 325.9,116.2\" style=\"fill:none;fill-rule:evenodd;stroke:#000000;stroke-width:2.0px;stroke-linecap:butt;stroke-linejoin:miter;stroke-opacity:1\"/>\n",
       "<path class=\"bond-7 atom-7 atom-8\" d=\"M 325.9,116.2 L 380.0,173.3\" style=\"fill:none;fill-rule:evenodd;stroke:#000000;stroke-width:2.0px;stroke-linecap:butt;stroke-linejoin:miter;stroke-opacity:1\"/>\n",
       "<path class=\"bond-7 atom-7 atom-8\" d=\"M 322.0,129.3 L 366.8,176.5\" style=\"fill:none;fill-rule:evenodd;stroke:#000000;stroke-width:2.0px;stroke-linecap:butt;stroke-linejoin:miter;stroke-opacity:1\"/>\n",
       "<path class=\"bond-8 atom-8 atom-9\" d=\"M 380.0,173.3 L 357.7,248.7\" style=\"fill:none;fill-rule:evenodd;stroke:#000000;stroke-width:2.0px;stroke-linecap:butt;stroke-linejoin:miter;stroke-opacity:1\"/>\n",
       "<path class=\"bond-9 atom-9 atom-10\" d=\"M 357.7,248.7 L 281.2,267.0\" style=\"fill:none;fill-rule:evenodd;stroke:#000000;stroke-width:2.0px;stroke-linecap:butt;stroke-linejoin:miter;stroke-opacity:1\"/>\n",
       "<path class=\"bond-9 atom-9 atom-10\" d=\"M 348.3,238.8 L 285.1,254.0\" style=\"fill:none;fill-rule:evenodd;stroke:#000000;stroke-width:2.0px;stroke-linecap:butt;stroke-linejoin:miter;stroke-opacity:1\"/>\n",
       "<path class=\"bond-10 atom-10 atom-5\" d=\"M 281.2,267.0 L 227.1,210.0\" style=\"fill:none;fill-rule:evenodd;stroke:#000000;stroke-width:2.0px;stroke-linecap:butt;stroke-linejoin:miter;stroke-opacity:1\"/>\n",
       "<path d=\"M 92.6,172.2 L 96.5,171.3 L 99.2,174.2\" style=\"fill:none;stroke:#000000;stroke-width:2.0px;stroke-linecap:butt;stroke-linejoin:miter;stroke-opacity:1;\"/>\n",
       "<path d=\"M 147.9,225.5 L 150.6,228.3 L 154.4,227.4\" style=\"fill:none;stroke:#000000;stroke-width:2.0px;stroke-linecap:butt;stroke-linejoin:miter;stroke-opacity:1;\"/>\n",
       "<path d=\"M 248.3,138.4 L 249.4,134.6 L 253.2,133.7\" style=\"fill:none;stroke:#000000;stroke-width:2.0px;stroke-linecap:butt;stroke-linejoin:miter;stroke-opacity:1;\"/>\n",
       "<path d=\"M 322.0,117.2 L 325.9,116.2 L 328.6,119.1\" style=\"fill:none;stroke:#000000;stroke-width:2.0px;stroke-linecap:butt;stroke-linejoin:miter;stroke-opacity:1;\"/>\n",
       "<path d=\"M 377.3,170.4 L 380.0,173.3 L 378.9,177.1\" style=\"fill:none;stroke:#000000;stroke-width:2.0px;stroke-linecap:butt;stroke-linejoin:miter;stroke-opacity:1;\"/>\n",
       "<path d=\"M 358.8,244.9 L 357.7,248.7 L 353.8,249.6\" style=\"fill:none;stroke:#000000;stroke-width:2.0px;stroke-linecap:butt;stroke-linejoin:miter;stroke-opacity:1;\"/>\n",
       "<path d=\"M 285.0,266.1 L 281.2,267.0 L 278.5,264.2\" style=\"fill:none;stroke:#000000;stroke-width:2.0px;stroke-linecap:butt;stroke-linejoin:miter;stroke-opacity:1;\"/>\n",
       "<path class=\"atom-2\" d=\"M 108.6 96.0 Q 108.6 90.6, 111.2 87.6 Q 113.9 84.6, 118.8 84.6 Q 123.7 84.6, 126.4 87.6 Q 129.0 90.6, 129.0 96.0 Q 129.0 101.4, 126.4 104.5 Q 123.7 107.5, 118.8 107.5 Q 113.9 107.5, 111.2 104.5 Q 108.6 101.4, 108.6 96.0 M 118.8 105.0 Q 122.2 105.0, 124.0 102.7 Q 125.9 100.4, 125.9 96.0 Q 125.9 91.6, 124.0 89.4 Q 122.2 87.2, 118.8 87.2 Q 115.4 87.2, 113.6 89.4 Q 111.7 91.6, 111.7 96.0 Q 111.7 100.5, 113.6 102.7 Q 115.4 105.0, 118.8 105.0 \" fill=\"#FF0000\"/>\n",
       "<path class=\"atom-4\" d=\"M 118.0 303.8 Q 118.0 298.5, 120.7 295.5 Q 123.3 292.5, 128.3 292.5 Q 133.2 292.5, 135.8 295.5 Q 138.5 298.5, 138.5 303.8 Q 138.5 309.2, 135.8 312.3 Q 133.1 315.4, 128.3 315.4 Q 123.4 315.4, 120.7 312.3 Q 118.0 309.3, 118.0 303.8 M 128.3 312.8 Q 131.7 312.8, 133.5 310.6 Q 135.3 308.3, 135.3 303.8 Q 135.3 299.4, 133.5 297.2 Q 131.7 295.0, 128.3 295.0 Q 124.9 295.0, 123.0 297.2 Q 121.2 299.4, 121.2 303.8 Q 121.2 308.3, 123.0 310.6 Q 124.9 312.8, 128.3 312.8 \" fill=\"#FF0000\"/>\n",
       "</svg>"
      ],
      "text/plain": [
       "<IPython.core.display.SVG object>"
      ]
     },
     "metadata": {},
     "output_type": "display_data"
    },
    {
     "name": "stdout",
     "output_type": "stream",
     "text": [
      "\n",
      "Reaction 1: Ketone amination\n",
      "Reaction SMILES: CC(=O)C(=O)c1ccccc1>>C[C@@H](N)C(=O)c1ccccc1\n"
     ]
    },
    {
     "data": {
      "image/svg+xml": [
       "<svg xmlns=\"http://www.w3.org/2000/svg\" xmlns:rdkit=\"http://www.rdkit.org/xml\" xmlns:xlink=\"http://www.w3.org/1999/xlink\" version=\"1.1\" baseProfile=\"full\" xml:space=\"preserve\" width=\"800px\" height=\"200px\" viewBox=\"0 0 800 200\">\n",
       "<!-- END OF HEADER -->\n",
       "<rect style=\"opacity:1.0;fill:#FFFFFF;stroke:none\" width=\"800.0\" height=\"200.0\" x=\"0.0\" y=\"0.0\"> </rect>\n",
       "<path class=\"bond-0 atom-0 atom-1\" d=\"M 68.3,92.3 L 125.1,78.7\" style=\"fill:none;fill-rule:evenodd;stroke:#000000;stroke-width:2.0px;stroke-linecap:butt;stroke-linejoin:miter;stroke-opacity:1\"/>\n",
       "<path class=\"bond-1 atom-1 atom-2\" d=\"M 128.6,82.4 L 135.7,58.4\" style=\"fill:none;fill-rule:evenodd;stroke:#000000;stroke-width:2.0px;stroke-linecap:butt;stroke-linejoin:miter;stroke-opacity:1\"/>\n",
       "<path class=\"bond-1 atom-1 atom-2\" d=\"M 135.7,58.4 L 142.8,34.5\" style=\"fill:none;fill-rule:evenodd;stroke:#FF0000;stroke-width:2.0px;stroke-linecap:butt;stroke-linejoin:miter;stroke-opacity:1\"/>\n",
       "<path class=\"bond-1 atom-1 atom-2\" d=\"M 120.2,79.9 L 127.3,55.9\" style=\"fill:none;fill-rule:evenodd;stroke:#000000;stroke-width:2.0px;stroke-linecap:butt;stroke-linejoin:miter;stroke-opacity:1\"/>\n",
       "<path class=\"bond-1 atom-1 atom-2\" d=\"M 127.3,55.9 L 134.4,32.0\" style=\"fill:none;fill-rule:evenodd;stroke:#FF0000;stroke-width:2.0px;stroke-linecap:butt;stroke-linejoin:miter;stroke-opacity:1\"/>\n",
       "<path class=\"bond-2 atom-1 atom-3\" d=\"M 125.1,78.7 L 165.3,121.1\" style=\"fill:none;fill-rule:evenodd;stroke:#000000;stroke-width:2.0px;stroke-linecap:butt;stroke-linejoin:miter;stroke-opacity:1\"/>\n",
       "<path class=\"bond-3 atom-3 atom-4\" d=\"M 161.8,117.4 L 154.7,141.4\" style=\"fill:none;fill-rule:evenodd;stroke:#000000;stroke-width:2.0px;stroke-linecap:butt;stroke-linejoin:miter;stroke-opacity:1\"/>\n",
       "<path class=\"bond-3 atom-3 atom-4\" d=\"M 154.7,141.4 L 147.6,165.5\" style=\"fill:none;fill-rule:evenodd;stroke:#FF0000;stroke-width:2.0px;stroke-linecap:butt;stroke-linejoin:miter;stroke-opacity:1\"/>\n",
       "<path class=\"bond-3 atom-3 atom-4\" d=\"M 170.2,119.9 L 163.1,143.9\" style=\"fill:none;fill-rule:evenodd;stroke:#000000;stroke-width:2.0px;stroke-linecap:butt;stroke-linejoin:miter;stroke-opacity:1\"/>\n",
       "<path class=\"bond-3 atom-3 atom-4\" d=\"M 163.1,143.9 L 156.0,168.0\" style=\"fill:none;fill-rule:evenodd;stroke:#FF0000;stroke-width:2.0px;stroke-linecap:butt;stroke-linejoin:miter;stroke-opacity:1\"/>\n",
       "<path class=\"bond-4 atom-3 atom-5\" d=\"M 165.3,121.1 L 222.1,107.4\" style=\"fill:none;fill-rule:evenodd;stroke:#000000;stroke-width:2.0px;stroke-linecap:butt;stroke-linejoin:miter;stroke-opacity:1\"/>\n",
       "<path class=\"bond-5 atom-5 atom-6\" d=\"M 222.1,107.4 L 238.7,51.4\" style=\"fill:none;fill-rule:evenodd;stroke:#000000;stroke-width:2.0px;stroke-linecap:butt;stroke-linejoin:miter;stroke-opacity:1\"/>\n",
       "<path class=\"bond-5 atom-5 atom-6\" d=\"M 231.9,105.1 L 245.6,58.8\" style=\"fill:none;fill-rule:evenodd;stroke:#000000;stroke-width:2.0px;stroke-linecap:butt;stroke-linejoin:miter;stroke-opacity:1\"/>\n",
       "<path class=\"bond-6 atom-6 atom-7\" d=\"M 238.7,51.4 L 295.5,37.8\" style=\"fill:none;fill-rule:evenodd;stroke:#000000;stroke-width:2.0px;stroke-linecap:butt;stroke-linejoin:miter;stroke-opacity:1\"/>\n",
       "<path class=\"bond-7 atom-7 atom-8\" d=\"M 295.5,37.8 L 335.7,80.2\" style=\"fill:none;fill-rule:evenodd;stroke:#000000;stroke-width:2.0px;stroke-linecap:butt;stroke-linejoin:miter;stroke-opacity:1\"/>\n",
       "<path class=\"bond-7 atom-7 atom-8\" d=\"M 292.6,47.5 L 325.8,82.5\" style=\"fill:none;fill-rule:evenodd;stroke:#000000;stroke-width:2.0px;stroke-linecap:butt;stroke-linejoin:miter;stroke-opacity:1\"/>\n",
       "<path class=\"bond-8 atom-8 atom-9\" d=\"M 335.7,80.2 L 319.1,136.2\" style=\"fill:none;fill-rule:evenodd;stroke:#000000;stroke-width:2.0px;stroke-linecap:butt;stroke-linejoin:miter;stroke-opacity:1\"/>\n",
       "<path class=\"bond-9 atom-9 atom-10\" d=\"M 319.1,136.2 L 262.3,149.8\" style=\"fill:none;fill-rule:evenodd;stroke:#000000;stroke-width:2.0px;stroke-linecap:butt;stroke-linejoin:miter;stroke-opacity:1\"/>\n",
       "<path class=\"bond-9 atom-9 atom-10\" d=\"M 312.1,128.8 L 265.2,140.1\" style=\"fill:none;fill-rule:evenodd;stroke:#000000;stroke-width:2.0px;stroke-linecap:butt;stroke-linejoin:miter;stroke-opacity:1\"/>\n",
       "<path class=\"bond-10 atom-10 atom-5\" d=\"M 262.3,149.8 L 222.1,107.4\" style=\"fill:none;fill-rule:evenodd;stroke:#000000;stroke-width:2.0px;stroke-linecap:butt;stroke-linejoin:miter;stroke-opacity:1\"/>\n",
       "<path d=\"M 122.3,79.4 L 125.1,78.7 L 127.1,80.8\" style=\"fill:none;stroke:#000000;stroke-width:2.0px;stroke-linecap:butt;stroke-linejoin:miter;stroke-opacity:1;\"/>\n",
       "<path d=\"M 163.3,118.9 L 165.3,121.1 L 168.2,120.4\" style=\"fill:none;stroke:#000000;stroke-width:2.0px;stroke-linecap:butt;stroke-linejoin:miter;stroke-opacity:1;\"/>\n",
       "<path d=\"M 237.9,54.2 L 238.7,51.4 L 241.5,50.8\" style=\"fill:none;stroke:#000000;stroke-width:2.0px;stroke-linecap:butt;stroke-linejoin:miter;stroke-opacity:1;\"/>\n",
       "<path d=\"M 292.6,38.5 L 295.5,37.8 L 297.5,39.9\" style=\"fill:none;stroke:#000000;stroke-width:2.0px;stroke-linecap:butt;stroke-linejoin:miter;stroke-opacity:1;\"/>\n",
       "<path d=\"M 333.6,78.0 L 335.7,80.2 L 334.8,83.0\" style=\"fill:none;stroke:#000000;stroke-width:2.0px;stroke-linecap:butt;stroke-linejoin:miter;stroke-opacity:1;\"/>\n",
       "<path d=\"M 319.9,133.4 L 319.1,136.2 L 316.2,136.8\" style=\"fill:none;stroke:#000000;stroke-width:2.0px;stroke-linecap:butt;stroke-linejoin:miter;stroke-opacity:1;\"/>\n",
       "<path d=\"M 265.1,149.1 L 262.3,149.8 L 260.3,147.7\" style=\"fill:none;stroke:#000000;stroke-width:2.0px;stroke-linecap:butt;stroke-linejoin:miter;stroke-opacity:1;\"/>\n",
       "<path class=\"atom-2\" d=\"M 134.1 22.8 Q 134.1 18.8, 136.1 16.6 Q 138.0 14.3, 141.7 14.3 Q 145.4 14.3, 147.3 16.6 Q 149.3 18.8, 149.3 22.8 Q 149.3 26.8, 147.3 29.1 Q 145.3 31.3, 141.7 31.3 Q 138.1 31.3, 136.1 29.1 Q 134.1 26.8, 134.1 22.8 M 141.7 29.5 Q 144.2 29.5, 145.6 27.8 Q 147.0 26.1, 147.0 22.8 Q 147.0 19.5, 145.6 17.9 Q 144.2 16.2, 141.7 16.2 Q 139.2 16.2, 137.8 17.8 Q 136.5 19.5, 136.5 22.8 Q 136.5 26.1, 137.8 27.8 Q 139.2 29.5, 141.7 29.5 \" fill=\"#FF0000\"/>\n",
       "<path class=\"atom-4\" d=\"M 141.1 177.1 Q 141.1 173.1, 143.1 170.9 Q 145.1 168.7, 148.7 168.7 Q 152.4 168.7, 154.4 170.9 Q 156.3 173.1, 156.3 177.1 Q 156.3 181.1, 154.3 183.4 Q 152.4 185.7, 148.7 185.7 Q 145.1 185.7, 143.1 183.4 Q 141.1 181.1, 141.1 177.1 M 148.7 183.8 Q 151.3 183.8, 152.6 182.1 Q 154.0 180.4, 154.0 177.1 Q 154.0 173.8, 152.6 172.2 Q 151.3 170.5, 148.7 170.5 Q 146.2 170.5, 144.8 172.2 Q 143.5 173.8, 143.5 177.1 Q 143.5 180.4, 144.8 182.1 Q 146.2 183.8, 148.7 183.8 \" fill=\"#FF0000\"/>\n",
       "<path class=\"bond-11 atom-12 atom-11\" d=\"M 522.1,78.6 L 466.4,96.5 L 464.3,88.0 Z\" style=\"fill:#000000;fill-rule:evenodd;fill-opacity:1;stroke:#000000;stroke-width:0.5px;stroke-linecap:butt;stroke-linejoin:miter;stroke-opacity:1;\"/>\n",
       "<path class=\"bond-12 atom-12 atom-13\" d=\"M 522.1,78.6 L 528.9,55.7\" style=\"fill:none;fill-rule:evenodd;stroke:#000000;stroke-width:2.0px;stroke-linecap:butt;stroke-linejoin:miter;stroke-opacity:1\"/>\n",
       "<path class=\"bond-12 atom-12 atom-13\" d=\"M 528.9,55.7 L 535.7,32.9\" style=\"fill:none;fill-rule:evenodd;stroke:#0000FF;stroke-width:2.0px;stroke-linecap:butt;stroke-linejoin:miter;stroke-opacity:1\"/>\n",
       "<path class=\"bond-13 atom-12 atom-14\" d=\"M 522.1,78.6 L 562.3,121.0\" style=\"fill:none;fill-rule:evenodd;stroke:#000000;stroke-width:2.0px;stroke-linecap:butt;stroke-linejoin:miter;stroke-opacity:1\"/>\n",
       "<path class=\"bond-14 atom-14 atom-15\" d=\"M 558.8,117.3 L 551.7,141.4\" style=\"fill:none;fill-rule:evenodd;stroke:#000000;stroke-width:2.0px;stroke-linecap:butt;stroke-linejoin:miter;stroke-opacity:1\"/>\n",
       "<path class=\"bond-14 atom-14 atom-15\" d=\"M 551.7,141.4 L 544.6,165.5\" style=\"fill:none;fill-rule:evenodd;stroke:#FF0000;stroke-width:2.0px;stroke-linecap:butt;stroke-linejoin:miter;stroke-opacity:1\"/>\n",
       "<path class=\"bond-14 atom-14 atom-15\" d=\"M 567.2,119.8 L 560.1,143.9\" style=\"fill:none;fill-rule:evenodd;stroke:#000000;stroke-width:2.0px;stroke-linecap:butt;stroke-linejoin:miter;stroke-opacity:1\"/>\n",
       "<path class=\"bond-14 atom-14 atom-15\" d=\"M 560.1,143.9 L 553.0,167.9\" style=\"fill:none;fill-rule:evenodd;stroke:#FF0000;stroke-width:2.0px;stroke-linecap:butt;stroke-linejoin:miter;stroke-opacity:1\"/>\n",
       "<path class=\"bond-15 atom-14 atom-16\" d=\"M 562.3,121.0 L 619.1,107.4\" style=\"fill:none;fill-rule:evenodd;stroke:#000000;stroke-width:2.0px;stroke-linecap:butt;stroke-linejoin:miter;stroke-opacity:1\"/>\n",
       "<path class=\"bond-16 atom-16 atom-17\" d=\"M 619.1,107.4 L 635.7,51.4\" style=\"fill:none;fill-rule:evenodd;stroke:#000000;stroke-width:2.0px;stroke-linecap:butt;stroke-linejoin:miter;stroke-opacity:1\"/>\n",
       "<path class=\"bond-16 atom-16 atom-17\" d=\"M 628.9,105.0 L 642.7,58.7\" style=\"fill:none;fill-rule:evenodd;stroke:#000000;stroke-width:2.0px;stroke-linecap:butt;stroke-linejoin:miter;stroke-opacity:1\"/>\n",
       "<path class=\"bond-17 atom-17 atom-18\" d=\"M 635.7,51.4 L 692.5,37.8\" style=\"fill:none;fill-rule:evenodd;stroke:#000000;stroke-width:2.0px;stroke-linecap:butt;stroke-linejoin:miter;stroke-opacity:1\"/>\n",
       "<path class=\"bond-18 atom-18 atom-19\" d=\"M 692.5,37.8 L 732.7,80.1\" style=\"fill:none;fill-rule:evenodd;stroke:#000000;stroke-width:2.0px;stroke-linecap:butt;stroke-linejoin:miter;stroke-opacity:1\"/>\n",
       "<path class=\"bond-18 atom-18 atom-19\" d=\"M 689.6,47.5 L 722.8,82.5\" style=\"fill:none;fill-rule:evenodd;stroke:#000000;stroke-width:2.0px;stroke-linecap:butt;stroke-linejoin:miter;stroke-opacity:1\"/>\n",
       "<path class=\"bond-19 atom-19 atom-20\" d=\"M 732.7,80.1 L 716.1,136.1\" style=\"fill:none;fill-rule:evenodd;stroke:#000000;stroke-width:2.0px;stroke-linecap:butt;stroke-linejoin:miter;stroke-opacity:1\"/>\n",
       "<path class=\"bond-20 atom-20 atom-21\" d=\"M 716.1,136.1 L 659.3,149.7\" style=\"fill:none;fill-rule:evenodd;stroke:#000000;stroke-width:2.0px;stroke-linecap:butt;stroke-linejoin:miter;stroke-opacity:1\"/>\n",
       "<path class=\"bond-20 atom-20 atom-21\" d=\"M 709.1,128.8 L 662.2,140.0\" style=\"fill:none;fill-rule:evenodd;stroke:#000000;stroke-width:2.0px;stroke-linecap:butt;stroke-linejoin:miter;stroke-opacity:1\"/>\n",
       "<path class=\"bond-21 atom-21 atom-16\" d=\"M 659.3,149.7 L 619.1,107.4\" style=\"fill:none;fill-rule:evenodd;stroke:#000000;stroke-width:2.0px;stroke-linecap:butt;stroke-linejoin:miter;stroke-opacity:1\"/>\n",
       "<path d=\"M 522.5,77.5 L 522.1,78.6 L 524.1,80.8\" style=\"fill:none;stroke:#000000;stroke-width:2.0px;stroke-linecap:butt;stroke-linejoin:miter;stroke-opacity:1;\"/>\n",
       "<path d=\"M 560.3,118.9 L 562.3,121.0 L 565.2,120.3\" style=\"fill:none;stroke:#000000;stroke-width:2.0px;stroke-linecap:butt;stroke-linejoin:miter;stroke-opacity:1;\"/>\n",
       "<path d=\"M 634.9,54.2 L 635.7,51.4 L 638.5,50.7\" style=\"fill:none;stroke:#000000;stroke-width:2.0px;stroke-linecap:butt;stroke-linejoin:miter;stroke-opacity:1;\"/>\n",
       "<path d=\"M 689.6,38.4 L 692.5,37.8 L 694.5,39.9\" style=\"fill:none;stroke:#000000;stroke-width:2.0px;stroke-linecap:butt;stroke-linejoin:miter;stroke-opacity:1;\"/>\n",
       "<path d=\"M 730.7,78.0 L 732.7,80.1 L 731.8,82.9\" style=\"fill:none;stroke:#000000;stroke-width:2.0px;stroke-linecap:butt;stroke-linejoin:miter;stroke-opacity:1;\"/>\n",
       "<path d=\"M 716.9,133.3 L 716.1,136.1 L 713.2,136.8\" style=\"fill:none;stroke:#000000;stroke-width:2.0px;stroke-linecap:butt;stroke-linejoin:miter;stroke-opacity:1;\"/>\n",
       "<path d=\"M 662.1,149.1 L 659.3,149.7 L 657.3,147.6\" style=\"fill:none;stroke:#000000;stroke-width:2.0px;stroke-linecap:butt;stroke-linejoin:miter;stroke-opacity:1;\"/>\n",
       "<path class=\"atom-2\" d=\"M 535.1 14.4 L 540.5 23.1 Q 541.0 24.0, 541.9 25.6 Q 542.7 27.1, 542.8 27.2 L 542.8 14.4 L 545.0 14.4 L 545.0 30.9 L 542.7 30.9 L 536.9 21.3 Q 536.2 20.2, 535.5 18.9 Q 534.8 17.7, 534.6 17.3 L 534.6 30.9 L 532.4 30.9 L 532.4 14.4 L 535.1 14.4 \" fill=\"#0000FF\"/>\n",
       "<path class=\"atom-2\" d=\"M 548.2 14.4 L 550.4 14.4 L 550.4 21.4 L 558.8 21.4 L 558.8 14.4 L 561.1 14.4 L 561.1 30.9 L 558.8 30.9 L 558.8 23.3 L 550.4 23.3 L 550.4 30.9 L 548.2 30.9 L 548.2 14.4 \" fill=\"#0000FF\"/>\n",
       "<path class=\"atom-2\" d=\"M 564.3 30.3 Q 564.7 29.3, 565.7 28.7 Q 566.6 28.2, 568.0 28.2 Q 569.6 28.2, 570.5 29.1 Q 571.5 29.9, 571.5 31.5 Q 571.5 33.2, 570.3 34.7 Q 569.1 36.2, 566.6 38.0 L 571.7 38.0 L 571.7 39.2 L 564.3 39.2 L 564.3 38.2 Q 566.3 36.7, 567.5 35.6 Q 568.8 34.6, 569.3 33.6 Q 569.9 32.6, 569.9 31.6 Q 569.9 30.6, 569.4 30.0 Q 568.9 29.4, 568.0 29.4 Q 567.1 29.4, 566.5 29.7 Q 565.9 30.1, 565.5 30.9 L 564.3 30.3 \" fill=\"#0000FF\"/>\n",
       "<path class=\"atom-4\" d=\"M 538.1 177.0 Q 538.1 173.1, 540.1 170.8 Q 542.1 168.6, 545.7 168.6 Q 549.4 168.6, 551.4 170.8 Q 553.3 173.1, 553.3 177.0 Q 553.3 181.1, 551.3 183.3 Q 549.4 185.6, 545.7 185.6 Q 542.1 185.6, 540.1 183.3 Q 538.1 181.1, 538.1 177.0 M 545.7 183.7 Q 548.3 183.7, 549.6 182.1 Q 551.0 180.4, 551.0 177.0 Q 551.0 173.8, 549.6 172.2 Q 548.3 170.5, 545.7 170.5 Q 543.2 170.5, 541.8 172.1 Q 540.5 173.8, 540.5 177.0 Q 540.5 180.4, 541.8 182.1 Q 543.2 183.7, 545.7 183.7 \" fill=\"#FF0000\"/>\n",
       "<path d=\"M 357.0,100.0 L 443.0,100.0\" style=\"fill:none;fill-rule:evenodd;stroke:#000000;stroke-width:2.0px;stroke-linecap:butt;stroke-linejoin:miter;stroke-opacity:1\"/>\n",
       "<path d=\"M 443.0,100.0 L 438.0,102.9\" style=\"fill:none;fill-rule:evenodd;stroke:#000000;stroke-width:2.0px;stroke-linecap:butt;stroke-linejoin:miter;stroke-opacity:1\"/>\n",
       "<path d=\"M 443.0,100.0 L 438.0,97.1\" style=\"fill:none;fill-rule:evenodd;stroke:#000000;stroke-width:2.0px;stroke-linecap:butt;stroke-linejoin:miter;stroke-opacity:1\"/>\n",
       "</svg>"
      ],
      "text/plain": [
       "<IPython.core.display.SVG object>"
      ]
     },
     "metadata": {},
     "output_type": "display_data"
    },
    {
     "name": "stdout",
     "output_type": "stream",
     "text": [
      "\n",
      "Reaction 2: Ketone reduction\n",
      "Reaction SMILES: C[C@@H](N)C(=O)c1ccccc1>>C[C@@H](N)[C@H](O)c1ccccc1\n"
     ]
    },
    {
     "data": {
      "image/svg+xml": [
       "<svg xmlns=\"http://www.w3.org/2000/svg\" xmlns:rdkit=\"http://www.rdkit.org/xml\" xmlns:xlink=\"http://www.w3.org/1999/xlink\" version=\"1.1\" baseProfile=\"full\" xml:space=\"preserve\" width=\"800px\" height=\"200px\" viewBox=\"0 0 800 200\">\n",
       "<!-- END OF HEADER -->\n",
       "<rect style=\"opacity:1.0;fill:#FFFFFF;stroke:none\" width=\"800.0\" height=\"200.0\" x=\"0.0\" y=\"0.0\"> </rect>\n",
       "<path class=\"bond-0 atom-1 atom-0\" d=\"M 126.0,78.7 L 70.5,96.6 L 68.5,88.1 Z\" style=\"fill:#000000;fill-rule:evenodd;fill-opacity:1;stroke:#000000;stroke-width:0.5px;stroke-linecap:butt;stroke-linejoin:miter;stroke-opacity:1;\"/>\n",
       "<path class=\"bond-1 atom-1 atom-2\" d=\"M 126.0,78.7 L 132.8,56.0\" style=\"fill:none;fill-rule:evenodd;stroke:#000000;stroke-width:2.0px;stroke-linecap:butt;stroke-linejoin:miter;stroke-opacity:1\"/>\n",
       "<path class=\"bond-1 atom-1 atom-2\" d=\"M 132.8,56.0 L 139.5,33.2\" style=\"fill:none;fill-rule:evenodd;stroke:#0000FF;stroke-width:2.0px;stroke-linecap:butt;stroke-linejoin:miter;stroke-opacity:1\"/>\n",
       "<path class=\"bond-2 atom-1 atom-3\" d=\"M 126.0,78.7 L 166.0,120.9\" style=\"fill:none;fill-rule:evenodd;stroke:#000000;stroke-width:2.0px;stroke-linecap:butt;stroke-linejoin:miter;stroke-opacity:1\"/>\n",
       "<path class=\"bond-3 atom-3 atom-4\" d=\"M 162.5,117.3 L 155.4,141.2\" style=\"fill:none;fill-rule:evenodd;stroke:#000000;stroke-width:2.0px;stroke-linecap:butt;stroke-linejoin:miter;stroke-opacity:1\"/>\n",
       "<path class=\"bond-3 atom-3 atom-4\" d=\"M 155.4,141.2 L 148.4,165.1\" style=\"fill:none;fill-rule:evenodd;stroke:#FF0000;stroke-width:2.0px;stroke-linecap:butt;stroke-linejoin:miter;stroke-opacity:1\"/>\n",
       "<path class=\"bond-3 atom-3 atom-4\" d=\"M 170.9,119.7 L 163.8,143.7\" style=\"fill:none;fill-rule:evenodd;stroke:#000000;stroke-width:2.0px;stroke-linecap:butt;stroke-linejoin:miter;stroke-opacity:1\"/>\n",
       "<path class=\"bond-3 atom-3 atom-4\" d=\"M 163.8,143.7 L 156.7,167.6\" style=\"fill:none;fill-rule:evenodd;stroke:#FF0000;stroke-width:2.0px;stroke-linecap:butt;stroke-linejoin:miter;stroke-opacity:1\"/>\n",
       "<path class=\"bond-4 atom-3 atom-5\" d=\"M 166.0,120.9 L 222.5,107.3\" style=\"fill:none;fill-rule:evenodd;stroke:#000000;stroke-width:2.0px;stroke-linecap:butt;stroke-linejoin:miter;stroke-opacity:1\"/>\n",
       "<path class=\"bond-5 atom-5 atom-6\" d=\"M 222.5,107.3 L 239.0,51.6\" style=\"fill:none;fill-rule:evenodd;stroke:#000000;stroke-width:2.0px;stroke-linecap:butt;stroke-linejoin:miter;stroke-opacity:1\"/>\n",
       "<path class=\"bond-5 atom-5 atom-6\" d=\"M 232.3,105.0 L 245.9,58.9\" style=\"fill:none;fill-rule:evenodd;stroke:#000000;stroke-width:2.0px;stroke-linecap:butt;stroke-linejoin:miter;stroke-opacity:1\"/>\n",
       "<path class=\"bond-6 atom-6 atom-7\" d=\"M 239.0,51.6 L 295.5,38.1\" style=\"fill:none;fill-rule:evenodd;stroke:#000000;stroke-width:2.0px;stroke-linecap:butt;stroke-linejoin:miter;stroke-opacity:1\"/>\n",
       "<path class=\"bond-7 atom-7 atom-8\" d=\"M 295.5,38.1 L 335.5,80.2\" style=\"fill:none;fill-rule:evenodd;stroke:#000000;stroke-width:2.0px;stroke-linecap:butt;stroke-linejoin:miter;stroke-opacity:1\"/>\n",
       "<path class=\"bond-7 atom-7 atom-8\" d=\"M 292.7,47.7 L 325.7,82.6\" style=\"fill:none;fill-rule:evenodd;stroke:#000000;stroke-width:2.0px;stroke-linecap:butt;stroke-linejoin:miter;stroke-opacity:1\"/>\n",
       "<path class=\"bond-8 atom-8 atom-9\" d=\"M 335.5,80.2 L 319.0,135.9\" style=\"fill:none;fill-rule:evenodd;stroke:#000000;stroke-width:2.0px;stroke-linecap:butt;stroke-linejoin:miter;stroke-opacity:1\"/>\n",
       "<path class=\"bond-9 atom-9 atom-10\" d=\"M 319.0,135.9 L 262.5,149.5\" style=\"fill:none;fill-rule:evenodd;stroke:#000000;stroke-width:2.0px;stroke-linecap:butt;stroke-linejoin:miter;stroke-opacity:1\"/>\n",
       "<path class=\"bond-9 atom-9 atom-10\" d=\"M 312.1,128.6 L 265.4,139.8\" style=\"fill:none;fill-rule:evenodd;stroke:#000000;stroke-width:2.0px;stroke-linecap:butt;stroke-linejoin:miter;stroke-opacity:1\"/>\n",
       "<path class=\"bond-10 atom-10 atom-5\" d=\"M 262.5,149.5 L 222.5,107.3\" style=\"fill:none;fill-rule:evenodd;stroke:#000000;stroke-width:2.0px;stroke-linecap:butt;stroke-linejoin:miter;stroke-opacity:1\"/>\n",
       "<path d=\"M 126.3,77.6 L 126.0,78.7 L 128.0,80.9\" style=\"fill:none;stroke:#000000;stroke-width:2.0px;stroke-linecap:butt;stroke-linejoin:miter;stroke-opacity:1;\"/>\n",
       "<path d=\"M 164.0,118.8 L 166.0,120.9 L 168.8,120.2\" style=\"fill:none;stroke:#000000;stroke-width:2.0px;stroke-linecap:butt;stroke-linejoin:miter;stroke-opacity:1;\"/>\n",
       "<path d=\"M 238.2,54.4 L 239.0,51.6 L 241.8,50.9\" style=\"fill:none;stroke:#000000;stroke-width:2.0px;stroke-linecap:butt;stroke-linejoin:miter;stroke-opacity:1;\"/>\n",
       "<path d=\"M 292.7,38.7 L 295.5,38.1 L 297.5,40.2\" style=\"fill:none;stroke:#000000;stroke-width:2.0px;stroke-linecap:butt;stroke-linejoin:miter;stroke-opacity:1;\"/>\n",
       "<path d=\"M 333.5,78.1 L 335.5,80.2 L 334.7,83.0\" style=\"fill:none;stroke:#000000;stroke-width:2.0px;stroke-linecap:butt;stroke-linejoin:miter;stroke-opacity:1;\"/>\n",
       "<path d=\"M 319.8,133.1 L 319.0,135.9 L 316.2,136.6\" style=\"fill:none;stroke:#000000;stroke-width:2.0px;stroke-linecap:butt;stroke-linejoin:miter;stroke-opacity:1;\"/>\n",
       "<path d=\"M 265.3,148.8 L 262.5,149.5 L 260.5,147.4\" style=\"fill:none;stroke:#000000;stroke-width:2.0px;stroke-linecap:butt;stroke-linejoin:miter;stroke-opacity:1;\"/>\n",
       "<path class=\"atom-2\" d=\"M 138.9 14.8 L 144.3 23.5 Q 144.8 24.4, 145.7 25.9 Q 146.5 27.5, 146.6 27.6 L 146.6 14.8 L 148.8 14.8 L 148.8 31.3 L 146.5 31.3 L 140.7 21.7 Q 140.0 20.6, 139.3 19.3 Q 138.6 18.1, 138.4 17.7 L 138.4 31.3 L 136.3 31.3 L 136.3 14.8 L 138.9 14.8 \" fill=\"#0000FF\"/>\n",
       "<path class=\"atom-2\" d=\"M 151.9 14.8 L 154.1 14.8 L 154.1 21.8 L 162.5 21.8 L 162.5 14.8 L 164.8 14.8 L 164.8 31.3 L 162.5 31.3 L 162.5 23.7 L 154.1 23.7 L 154.1 31.3 L 151.9 31.3 L 151.9 14.8 \" fill=\"#0000FF\"/>\n",
       "<path class=\"atom-2\" d=\"M 168.0 30.7 Q 168.4 29.7, 169.3 29.1 Q 170.3 28.5, 171.6 28.5 Q 173.3 28.5, 174.2 29.4 Q 175.1 30.3, 175.1 31.9 Q 175.1 33.5, 173.9 35.0 Q 172.7 36.5, 170.3 38.3 L 175.3 38.3 L 175.3 39.5 L 168.0 39.5 L 168.0 38.5 Q 170.0 37.0, 171.2 35.9 Q 172.4 34.9, 173.0 33.9 Q 173.6 32.9, 173.6 31.9 Q 173.6 30.9, 173.0 30.3 Q 172.5 29.7, 171.6 29.7 Q 170.7 29.7, 170.2 30.1 Q 169.6 30.4, 169.2 31.2 L 168.0 30.7 \" fill=\"#0000FF\"/>\n",
       "<path class=\"atom-4\" d=\"M 141.9 176.7 Q 141.9 172.7, 143.9 170.5 Q 145.8 168.3, 149.5 168.3 Q 153.1 168.3, 155.1 170.5 Q 157.1 172.7, 157.1 176.7 Q 157.1 180.7, 155.1 182.9 Q 153.1 185.2, 149.5 185.2 Q 145.9 185.2, 143.9 182.9 Q 141.9 180.7, 141.9 176.7 M 149.5 183.3 Q 152.0 183.3, 153.4 181.7 Q 154.7 180.0, 154.7 176.7 Q 154.7 173.4, 153.4 171.8 Q 152.0 170.2, 149.5 170.2 Q 147.0 170.2, 145.6 171.8 Q 144.3 173.4, 144.3 176.7 Q 144.3 180.0, 145.6 181.7 Q 147.0 183.3, 149.5 183.3 \" fill=\"#FF0000\"/>\n",
       "<path class=\"bond-11 atom-12 atom-11\" d=\"M 522.0,78.7 L 466.5,96.6 L 464.5,88.1 Z\" style=\"fill:#000000;fill-rule:evenodd;fill-opacity:1;stroke:#000000;stroke-width:0.5px;stroke-linecap:butt;stroke-linejoin:miter;stroke-opacity:1;\"/>\n",
       "<path class=\"bond-12 atom-12 atom-13\" d=\"M 522.0,78.7 L 528.8,56.0\" style=\"fill:none;fill-rule:evenodd;stroke:#000000;stroke-width:2.0px;stroke-linecap:butt;stroke-linejoin:miter;stroke-opacity:1\"/>\n",
       "<path class=\"bond-12 atom-12 atom-13\" d=\"M 528.8,56.0 L 535.5,33.2\" style=\"fill:none;fill-rule:evenodd;stroke:#0000FF;stroke-width:2.0px;stroke-linecap:butt;stroke-linejoin:miter;stroke-opacity:1\"/>\n",
       "<path class=\"bond-13 atom-12 atom-14\" d=\"M 522.0,78.7 L 562.0,120.9\" style=\"fill:none;fill-rule:evenodd;stroke:#000000;stroke-width:2.0px;stroke-linecap:butt;stroke-linejoin:miter;stroke-opacity:1\"/>\n",
       "<path class=\"bond-14 atom-14 atom-15\" d=\"M 562.0,120.9 L 557.6,143.3 L 553.5,142.1 Z\" style=\"fill:#000000;fill-rule:evenodd;fill-opacity:1;stroke:#000000;stroke-width:0.5px;stroke-linecap:butt;stroke-linejoin:miter;stroke-opacity:1;\"/>\n",
       "<path class=\"bond-14 atom-14 atom-15\" d=\"M 557.6,143.3 L 544.9,163.2 L 553.3,165.7 Z\" style=\"fill:#FF0000;fill-rule:evenodd;fill-opacity:1;stroke:#FF0000;stroke-width:0.5px;stroke-linecap:butt;stroke-linejoin:miter;stroke-opacity:1;\"/>\n",
       "<path class=\"bond-14 atom-14 atom-15\" d=\"M 557.6,143.3 L 553.5,142.1 L 544.9,163.2 Z\" style=\"fill:#FF0000;fill-rule:evenodd;fill-opacity:1;stroke:#FF0000;stroke-width:0.5px;stroke-linecap:butt;stroke-linejoin:miter;stroke-opacity:1;\"/>\n",
       "<path class=\"bond-15 atom-14 atom-16\" d=\"M 562.0,120.9 L 618.5,107.3\" style=\"fill:none;fill-rule:evenodd;stroke:#000000;stroke-width:2.0px;stroke-linecap:butt;stroke-linejoin:miter;stroke-opacity:1\"/>\n",
       "<path class=\"bond-16 atom-16 atom-17\" d=\"M 618.5,107.3 L 635.0,51.6\" style=\"fill:none;fill-rule:evenodd;stroke:#000000;stroke-width:2.0px;stroke-linecap:butt;stroke-linejoin:miter;stroke-opacity:1\"/>\n",
       "<path class=\"bond-16 atom-16 atom-17\" d=\"M 628.3,105.0 L 641.9,58.9\" style=\"fill:none;fill-rule:evenodd;stroke:#000000;stroke-width:2.0px;stroke-linecap:butt;stroke-linejoin:miter;stroke-opacity:1\"/>\n",
       "<path class=\"bond-17 atom-17 atom-18\" d=\"M 635.0,51.6 L 691.5,38.1\" style=\"fill:none;fill-rule:evenodd;stroke:#000000;stroke-width:2.0px;stroke-linecap:butt;stroke-linejoin:miter;stroke-opacity:1\"/>\n",
       "<path class=\"bond-18 atom-18 atom-19\" d=\"M 691.5,38.1 L 731.5,80.2\" style=\"fill:none;fill-rule:evenodd;stroke:#000000;stroke-width:2.0px;stroke-linecap:butt;stroke-linejoin:miter;stroke-opacity:1\"/>\n",
       "<path class=\"bond-18 atom-18 atom-19\" d=\"M 688.7,47.7 L 721.7,82.6\" style=\"fill:none;fill-rule:evenodd;stroke:#000000;stroke-width:2.0px;stroke-linecap:butt;stroke-linejoin:miter;stroke-opacity:1\"/>\n",
       "<path class=\"bond-19 atom-19 atom-20\" d=\"M 731.5,80.2 L 715.0,135.9\" style=\"fill:none;fill-rule:evenodd;stroke:#000000;stroke-width:2.0px;stroke-linecap:butt;stroke-linejoin:miter;stroke-opacity:1\"/>\n",
       "<path class=\"bond-20 atom-20 atom-21\" d=\"M 715.0,135.9 L 658.5,149.5\" style=\"fill:none;fill-rule:evenodd;stroke:#000000;stroke-width:2.0px;stroke-linecap:butt;stroke-linejoin:miter;stroke-opacity:1\"/>\n",
       "<path class=\"bond-20 atom-20 atom-21\" d=\"M 708.1,128.6 L 661.4,139.8\" style=\"fill:none;fill-rule:evenodd;stroke:#000000;stroke-width:2.0px;stroke-linecap:butt;stroke-linejoin:miter;stroke-opacity:1\"/>\n",
       "<path class=\"bond-21 atom-21 atom-16\" d=\"M 658.5,149.5 L 618.5,107.3\" style=\"fill:none;fill-rule:evenodd;stroke:#000000;stroke-width:2.0px;stroke-linecap:butt;stroke-linejoin:miter;stroke-opacity:1\"/>\n",
       "<path d=\"M 522.3,77.6 L 522.0,78.7 L 524.0,80.9\" style=\"fill:none;stroke:#000000;stroke-width:2.0px;stroke-linecap:butt;stroke-linejoin:miter;stroke-opacity:1;\"/>\n",
       "<path d=\"M 560.0,118.8 L 562.0,120.9 L 564.8,120.2\" style=\"fill:none;stroke:#000000;stroke-width:2.0px;stroke-linecap:butt;stroke-linejoin:miter;stroke-opacity:1;\"/>\n",
       "<path d=\"M 634.2,54.4 L 635.0,51.6 L 637.8,50.9\" style=\"fill:none;stroke:#000000;stroke-width:2.0px;stroke-linecap:butt;stroke-linejoin:miter;stroke-opacity:1;\"/>\n",
       "<path d=\"M 688.7,38.7 L 691.5,38.1 L 693.5,40.2\" style=\"fill:none;stroke:#000000;stroke-width:2.0px;stroke-linecap:butt;stroke-linejoin:miter;stroke-opacity:1;\"/>\n",
       "<path d=\"M 729.5,78.1 L 731.5,80.2 L 730.7,83.0\" style=\"fill:none;stroke:#000000;stroke-width:2.0px;stroke-linecap:butt;stroke-linejoin:miter;stroke-opacity:1;\"/>\n",
       "<path d=\"M 715.8,133.1 L 715.0,135.9 L 712.2,136.6\" style=\"fill:none;stroke:#000000;stroke-width:2.0px;stroke-linecap:butt;stroke-linejoin:miter;stroke-opacity:1;\"/>\n",
       "<path d=\"M 661.3,148.8 L 658.5,149.5 L 656.5,147.4\" style=\"fill:none;stroke:#000000;stroke-width:2.0px;stroke-linecap:butt;stroke-linejoin:miter;stroke-opacity:1;\"/>\n",
       "<path class=\"atom-2\" d=\"M 534.9 14.8 L 540.3 23.5 Q 540.8 24.4, 541.7 25.9 Q 542.5 27.5, 542.6 27.6 L 542.6 14.8 L 544.8 14.8 L 544.8 31.3 L 542.5 31.3 L 536.7 21.7 Q 536.0 20.6, 535.3 19.3 Q 534.6 18.1, 534.4 17.7 L 534.4 31.3 L 532.3 31.3 L 532.3 14.8 L 534.9 14.8 \" fill=\"#0000FF\"/>\n",
       "<path class=\"atom-2\" d=\"M 547.9 14.8 L 550.1 14.8 L 550.1 21.8 L 558.5 21.8 L 558.5 14.8 L 560.8 14.8 L 560.8 31.3 L 558.5 31.3 L 558.5 23.7 L 550.1 23.7 L 550.1 31.3 L 547.9 31.3 L 547.9 14.8 \" fill=\"#0000FF\"/>\n",
       "<path class=\"atom-2\" d=\"M 564.0 30.7 Q 564.4 29.7, 565.3 29.1 Q 566.3 28.5, 567.6 28.5 Q 569.3 28.5, 570.2 29.4 Q 571.1 30.3, 571.1 31.9 Q 571.1 33.5, 569.9 35.0 Q 568.7 36.5, 566.3 38.3 L 571.3 38.3 L 571.3 39.5 L 564.0 39.5 L 564.0 38.5 Q 566.0 37.0, 567.2 35.9 Q 568.4 34.9, 569.0 33.9 Q 569.6 32.9, 569.6 31.9 Q 569.6 30.9, 569.0 30.3 Q 568.5 29.7, 567.6 29.7 Q 566.7 29.7, 566.2 30.1 Q 565.6 30.4, 565.2 31.2 L 564.0 30.7 \" fill=\"#0000FF\"/>\n",
       "<path class=\"atom-4\" d=\"M 537.9 176.7 Q 537.9 172.7, 539.9 170.5 Q 541.8 168.3, 545.5 168.3 Q 549.1 168.3, 551.1 170.5 Q 553.1 172.7, 553.1 176.7 Q 553.1 180.7, 551.1 182.9 Q 549.1 185.2, 545.5 185.2 Q 541.9 185.2, 539.9 182.9 Q 537.9 180.7, 537.9 176.7 M 545.5 183.3 Q 548.0 183.3, 549.4 181.7 Q 550.7 180.0, 550.7 176.7 Q 550.7 173.4, 549.4 171.8 Q 548.0 170.2, 545.5 170.2 Q 543.0 170.2, 541.6 171.8 Q 540.3 173.4, 540.3 176.7 Q 540.3 180.0, 541.6 181.7 Q 543.0 183.3, 545.5 183.3 \" fill=\"#FF0000\"/>\n",
       "<path class=\"atom-4\" d=\"M 555.6 168.5 L 557.8 168.5 L 557.8 175.5 L 566.3 175.5 L 566.3 168.5 L 568.5 168.5 L 568.5 184.9 L 566.3 184.9 L 566.3 177.3 L 557.8 177.3 L 557.8 184.9 L 555.6 184.9 L 555.6 168.5 \" fill=\"#FF0000\"/>\n",
       "<path d=\"M 357.0,100.0 L 443.0,100.0\" style=\"fill:none;fill-rule:evenodd;stroke:#000000;stroke-width:2.0px;stroke-linecap:butt;stroke-linejoin:miter;stroke-opacity:1\"/>\n",
       "<path d=\"M 443.0,100.0 L 438.0,102.9\" style=\"fill:none;fill-rule:evenodd;stroke:#000000;stroke-width:2.0px;stroke-linecap:butt;stroke-linejoin:miter;stroke-opacity:1\"/>\n",
       "<path d=\"M 443.0,100.0 L 438.0,97.1\" style=\"fill:none;fill-rule:evenodd;stroke:#000000;stroke-width:2.0px;stroke-linecap:butt;stroke-linejoin:miter;stroke-opacity:1\"/>\n",
       "</svg>"
      ],
      "text/plain": [
       "<IPython.core.display.SVG object>"
      ]
     },
     "metadata": {},
     "output_type": "display_data"
    },
    {
     "name": "stdout",
     "output_type": "stream",
     "text": [
      "-------------------------------------------------------------------------------------------------------------------------------------------------\n"
     ]
    }
   ],
   "source": [
    "print(\"There are \" + str(len(paths)) + \" paths found.\")\n",
    "while True:\n",
    "    user_input = input(f\"Enter a number (1-{len(paths)}) to explore a path or type 'exit' to quit: \")\n",
    "\n",
    "    if user_input.lower() == \"exit\":\n",
    "        print(\"Program has been terminated.\")\n",
    "        break\n",
    "\n",
    "    try:\n",
    "        num = int(user_input)\n",
    "        if 1 <= num <= len(paths):\n",
    "            path_explorer2(paths[num - 1], num, len(paths))\n",
    "        else:\n",
    "            print(f\"Invalid input. Please enter a number between 1 and {len(paths)}.\")\n",
    "    except ValueError:\n",
    "        print(\"Invalid input. Please enter a valid integer or type 'exit' to quit.\")\n",
    "    print(\"-------------------------------------------------------------------------------------------------------------------------------------------------\")"
   ]
  },
  {
   "cell_type": "code",
   "execution_count": null,
   "metadata": {},
   "outputs": [],
   "source": []
  }
 ],
 "metadata": {
  "kernelspec": {
   "display_name": "Python 3.9 (Default)",
   "language": "python",
   "name": "python3"
  },
  "language_info": {
   "codemirror_mode": {
    "name": "ipython",
    "version": 3
   },
   "file_extension": ".py",
   "mimetype": "text/x-python",
   "name": "python",
   "nbconvert_exporter": "python",
   "pygments_lexer": "ipython3",
   "version": "3.9.13"
  }
 },
 "nbformat": 4,
 "nbformat_minor": 4
}
